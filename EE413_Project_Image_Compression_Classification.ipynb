{
 "cells": [
  {
   "cell_type": "markdown",
   "id": "eaa2f73a",
   "metadata": {},
   "source": [
    "# EE 413 - Image Compression and Classification with Deep Learning"
   ]
  },
  {
   "cell_type": "markdown",
   "id": "40926d4d",
   "metadata": {},
   "source": [
    "## Team Members\n",
    "- **Mohammed**: Model Selection and Baseline Establishment\n",
    "- **Saud**: Wavelet-based Image Compression\n",
    "- **Naif**: Fine-tuning on Compressed Data\n",
    "- **Osama**: Compressed Sensing Experiment"
   ]
  },
  {
   "cell_type": "markdown",
   "id": "df7845bc",
   "metadata": {},
   "source": [
    "## 1. Model Selection and Baseline Establishment (Mohammed)\n",
    "### 1.1 Select two pre-trained models\n",
    "_Describe choice of models and why._\n",
    "\n",
    "### 1.2 Load Mini-ImageNet dataset\n",
    "_Resize if needed, split into train/test._\n",
    "\n",
    "### 1.3 Modify and Fine-tune models\n",
    "- Resize to fit model requirements (e.g., 96x96)\n",
    "- Adjust classifier layer\n",
    "\n",
    "### 1.4 Evaluate baseline performance\n",
    "_Report accuracy, confusion matrix, etc._"
   ]
  },
  {
   "cell_type": "code",
   "execution_count": null,
   "id": "edd9cf7d",
   "metadata": {},
   "outputs": [],
   "source": [
    "# CODE HERE: Load and prepare Mini-ImageNet"
   ]
  },
  {
   "cell_type": "code",
   "execution_count": null,
   "id": "c1e94a78",
   "metadata": {},
   "outputs": [],
   "source": [
    "# CODE HERE: Load pre-trained models and modify for classification"
   ]
  },
  {
   "cell_type": "code",
   "execution_count": null,
   "id": "93ff5c9e",
   "metadata": {},
   "outputs": [],
   "source": [
    "# CODE HERE: Fine-tune models and evaluate baseline"
   ]
  },
  {
   "cell_type": "markdown",
   "id": "7c2fc6bc",
   "metadata": {},
   "source": [
    "## 2. Wavelet-based Image Compression (Saud)\n",
    "### 2.1 Implement DWT and thresholding\n",
    "### 2.2 Compress test images at 10:1, 5:1, 2:1\n",
    "### 2.3 Visualize original vs. compressed\n",
    "### 2.4 Analyze performance degradation"
   ]
  },
  {
   "cell_type": "code",
   "execution_count": null,
   "id": "78e9d7e9",
   "metadata": {},
   "outputs": [],
   "source": [
    "# CODE HERE: Implement wavelet compression"
   ]
  },
  {
   "cell_type": "code",
   "execution_count": null,
   "id": "6a880eaa",
   "metadata": {},
   "outputs": [],
   "source": [
    "# CODE HERE: Evaluate model on compressed images"
   ]
  },
  {
   "cell_type": "code",
   "execution_count": null,
   "id": "20716e96",
   "metadata": {},
   "outputs": [],
   "source": [
    "# CODE HERE:"
   ]
  },
  {
   "cell_type": "code",
   "execution_count": null,
   "id": "00904f82",
   "metadata": {},
   "outputs": [],
   "source": [
    "# CODE HERE: "
   ]
  },
  {
   "cell_type": "markdown",
   "id": "e6059d53",
   "metadata": {},
   "source": [
    "## 3. Fine-tuning on Compressed Data (Naif)\n",
    "### 3.1 Create compressed training set\n",
    "### 3.2 Fine-tune model on compressed data\n",
    "### 3.3 Compare performance to original training\n",
    "### 3.4 Analyze robustness"
   ]
  },
  {
   "cell_type": "code",
   "execution_count": null,
   "id": "4ce38484",
   "metadata": {},
   "outputs": [],
   "source": [
    "# CODE HERE: Fine-tune on compressed training set"
   ]
  },
  {
   "cell_type": "code",
   "execution_count": null,
   "id": "c07b847c",
   "metadata": {},
   "outputs": [],
   "source": [
    "# CODE HERE: "
   ]
  },
  {
   "cell_type": "code",
   "execution_count": null,
   "id": "b47ce1dd",
   "metadata": {},
   "outputs": [],
   "source": [
    "# CODE HERE: "
   ]
  },
  {
   "cell_type": "code",
   "execution_count": null,
   "id": "adcc2983",
   "metadata": {},
   "outputs": [],
   "source": [
    "# CODE HERE: Evaluate and compare robustness"
   ]
  },
  {
   "cell_type": "markdown",
   "id": "f59bc2b9",
   "metadata": {},
   "source": [
    "## 4. Compressed Sensing Experiment (Saud)\n",
    "### 4.1 Select 20 images from different classes\n",
    "### 4.2 Apply CS sampling with different rates (0.25, 0.5, 0.75)\n",
    "### 4.3 Reconstruct using L1-minimization\n",
    "### 4.4 Evaluate model performance"
   ]
  },
  {
   "cell_type": "code",
   "execution_count": null,
   "id": "e4aa6f40",
   "metadata": {},
   "outputs": [],
   "source": [
    "# CODE HERE: Compressed sensing acquisition and reconstruction"
   ]
  },
  {
   "cell_type": "code",
   "execution_count": null,
   "id": "eb5f5a02",
   "metadata": {},
   "outputs": [],
   "source": [
    "# CODE HERE: "
   ]
  },
  {
   "cell_type": "code",
   "execution_count": null,
   "id": "a79e88e0",
   "metadata": {},
   "outputs": [],
   "source": [
    "# CODE HERE:"
   ]
  },
  {
   "cell_type": "code",
   "execution_count": null,
   "id": "e9c895cc",
   "metadata": {},
   "outputs": [],
   "source": [
    "# CODE HERE: Test on reconstructed images"
   ]
  },
  {
   "cell_type": "markdown",
   "id": "e2a13bf4",
   "metadata": {},
   "source": [
    "## 5. Summary and Discussion\n",
    "### Visualizations & Final Comparison"
   ]
  },
  {
   "cell_type": "code",
   "execution_count": null,
   "id": "8c163a71",
   "metadata": {},
   "outputs": [],
   "source": [
    "# CODE HERE: "
   ]
  }
 ],
 "metadata": {
  "language_info": {
   "name": "python"
  }
 },
 "nbformat": 4,
 "nbformat_minor": 5
}
